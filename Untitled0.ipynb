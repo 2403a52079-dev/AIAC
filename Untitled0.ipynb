{
  "nbformat": 4,
  "nbformat_minor": 0,
  "metadata": {
    "colab": {
      "provenance": [],
      "authorship_tag": "ABX9TyPDcjZ4HTVah4t8RcLX4JZn",
      "include_colab_link": true
    },
    "kernelspec": {
      "name": "python3",
      "display_name": "Python 3"
    },
    "language_info": {
      "name": "python"
    }
  },
  "cells": [
    {
      "cell_type": "markdown",
      "metadata": {
        "id": "view-in-github",
        "colab_type": "text"
      },
      "source": [
        "<a href=\"https://colab.research.google.com/github/2403a52079-dev/AIAC/blob/main/Untitled0.ipynb\" target=\"_parent\"><img src=\"https://colab.research.google.com/assets/colab-badge.svg\" alt=\"Open In Colab\"/></a>"
      ]
    },
    {
      "cell_type": "markdown",
      "source": [
        "Task0:Build Python function to check the given number is prime or not\n",
        "\n"
      ],
      "metadata": {
        "id": "ArvS_wRSsaZd"
      }
    },
    {
      "cell_type": "code",
      "execution_count": 3,
      "metadata": {
        "id": "UUx-fD2qsICL"
      },
      "outputs": [],
      "source": [
        "def is_prime(number):\n",
        "    \"\"\"Checks if a given number is prime.\"\"\"\n",
        "    if number <= 1:\n",
        "        return False\n",
        "    if number <= 3:\n",
        "        return True\n",
        "    if number % 2 == 0 or number % 3 == 0:\n",
        "        return False\n",
        "    i = 5\n",
        "    while i * i <= number:\n",
        "        if number % i == 0 or number % (i + 2) == 0:\n",
        "            return False\n",
        "        i += 6\n",
        "    return True\n",
        "\n",
        "# Example usage:\n",
        "# print(is_prime(11))\n",
        "# print(is_prime(15))"
      ]
    },
    {
      "cell_type": "markdown",
      "source": [
        "The selected code implements an optimized primality test. It checks for divisibility by numbers of the form 6k ± 1 because all primes greater than 3 can be expressed in this form. The loop continues as long as i * i is less than or equal to number. This is because if number has a divisor greater than its square root, it must also have a divisor smaller than its square root, which would have already been found in a previous iteration.\n",
        "\n"
      ],
      "metadata": {
        "id": "tGJLbTFPvAXW"
      }
    }
  ]
}