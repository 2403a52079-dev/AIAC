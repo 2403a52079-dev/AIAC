{
  "nbformat": 4,
  "nbformat_minor": 0,
  "metadata": {
    "colab": {
      "provenance": [],
      "authorship_tag": "ABX9TyMVQEBBfoui256r9BI5qgxT",
      "include_colab_link": true
    },
    "kernelspec": {
      "name": "python3",
      "display_name": "Python 3"
    },
    "language_info": {
      "name": "python"
    }
  },
  "cells": [
    {
      "cell_type": "markdown",
      "metadata": {
        "id": "view-in-github",
        "colab_type": "text"
      },
      "source": [
        "<a href=\"https://colab.research.google.com/github/2403a52079-dev/AIAC/blob/main/lab_2_2.ipynb\" target=\"_parent\"><img src=\"https://colab.research.google.com/assets/colab-badge.svg\" alt=\"Open In Colab\"/></a>"
      ]
    },
    {
      "cell_type": "markdown",
      "source": [
        "Task0:Build Python function to check the given number is prime or not\n",
        "\n"
      ],
      "metadata": {
        "id": "ArvS_wRSsaZd"
      }
    },
    {
      "cell_type": "code",
      "execution_count": 3,
      "metadata": {
        "id": "UUx-fD2qsICL"
      },
      "outputs": [],
      "source": [
        "def is_prime(number):\n",
        "    \"\"\"Checks if a given number is prime.\"\"\"\n",
        "    if number <= 1:\n",
        "        return False\n",
        "    if number <= 3:\n",
        "        return True\n",
        "    if number % 2 == 0 or number % 3 == 0:\n",
        "        return False\n",
        "    i = 5\n",
        "    while i * i <= number:\n",
        "        if number % i == 0 or number % (i + 2) == 0:\n",
        "            return False\n",
        "        i += 6\n",
        "    return True\n",
        "\n",
        "# Example usage:\n",
        "# print(is_prime(11))\n",
        "# print(is_prime(15))"
      ]
    },
    {
      "cell_type": "markdown",
      "source": [
        "The selected code implements an optimized primality test. It checks for divisibility by numbers of the form 6k ± 1 because all primes greater than 3 can be expressed in this form. The loop continues as long as i * i is less than or equal to number. This is because if number has a divisor greater than its square root, it must also have a divisor smaller than its square root, which would have already been found in a previous iteration.\n",
        "\n"
      ],
      "metadata": {
        "id": "tGJLbTFPvAXW"
      }
    },
    {
      "cell_type": "markdown",
      "source": [
        "Use Gemini in Colab to write a function that filters out all negative numbers from a\n",
        "given list"
      ],
      "metadata": {
        "id": "QIrV51565Xcb"
      }
    },
    {
      "cell_type": "code",
      "metadata": {
        "id": "e9756209"
      },
      "source": [
        "def filter_negative_numbers(input_list):\n",
        "  \"\"\"Filters out all negative numbers from a given list.\"\"\"\n",
        "  return [number for number in input_list if number >= 0]\n",
        "\n",
        "# Example usage:\n",
        "# my_list = [1, -2, 3, -4, 5, -6]\n",
        "# filtered_list = filter_negative_numbers(my_list)\n",
        "# print(filtered_list)"
      ],
      "execution_count": 4,
      "outputs": []
    },
    {
      "cell_type": "markdown",
      "source": [
        "This code defines a Python function called filter_negative_numbers that takes a list as input (input_list). It uses a list comprehension to create a new list containing only the numbers from the input list that are greater than or equal to zero (i.e., non-negative numbers). The example usage shows how to call the function with a sample list and print the resulting filtered list."
      ],
      "metadata": {
        "id": "nDt1E1q-5nCz"
      }
    },
    {
      "cell_type": "markdown",
      "source": [
        "task1:Use Gemini in Colab to write a function that filters out all negative numbers from a\n",
        "given list."
      ],
      "metadata": {
        "id": "MHsyUzpC7UmO"
      }
    },
    {
      "cell_type": "code",
      "metadata": {
        "id": "a5480500"
      },
      "source": [
        "def filter_negative_numbers(input_list):\n",
        "  \"\"\"Filters out all negative numbers from a given list.\"\"\"\n",
        "  return [number for number in input_list if number >= 0]\n",
        "\n",
        "# Example usage:\n",
        "# my_list = [1, -2, 3, -4, 5, -6]\n",
        "# filtered_list = filter_negative_numbers(my_list)\n",
        "# print(filtered_list)"
      ],
      "execution_count": 5,
      "outputs": []
    },
    {
      "cell_type": "markdown",
      "source": [
        "This code defines a Python function called filter_negative_numbers that takes a list as input (input_list). It uses a list comprehension to create a new list containing only the numbers from the input list that are greater than or equal to zero (i.e., non-negative numbers). The example usage shows how to call the function with a sample list and print the resulting filtered list.\n",
        "\n"
      ],
      "metadata": {
        "id": "OxwYX4Xu8xn6"
      }
    },
    {
      "cell_type": "code",
      "source": [],
      "metadata": {
        "id": "Pnib4x739I8-"
      },
      "execution_count": null,
      "outputs": []
    },
    {
      "cell_type": "markdown",
      "source": [
        "task2:Ask Gemini to generate code that reads a text file and counts the frequency of each\n",
        "word"
      ],
      "metadata": {
        "id": "D_UqWWcC9YR3"
      }
    },
    {
      "cell_type": "code",
      "metadata": {
        "id": "1982e0aa"
      },
      "source": [
        "import collections\n",
        "import re\n",
        "\n",
        "def word_frequency(filepath):\n",
        "  \"\"\"Reads a text file and counts the frequency of each word.\"\"\"\n",
        "  with open(filepath, 'r') as file:\n",
        "    text = file.read().lower()\n",
        "    words = re.findall(r'\\b\\w+\\b', text)\n",
        "    word_counts = collections.Counter(words)\n",
        "  return word_counts\n",
        "\n",
        "# Example usage:\n",
        "# Create a dummy text file for demonstration\n",
        "# with open('sample.txt', 'w') as f:\n",
        "#   f.write(\"This is a sample text file. This file is a sample.\")\n",
        "\n",
        "# counts = word_frequency('sample.txt')\n",
        "# print(counts)"
      ],
      "execution_count": 6,
      "outputs": []
    },
    {
      "cell_type": "markdown",
      "source": [
        "This code defines a Python function called word_frequency that takes a file path as input. It opens the file, reads its content, converts it to lowercase, and uses regular expressions to find all words. It then uses collections.Counter to count the frequency of each word and returns the word counts. The example usage shows how to create a dummy text file and use the function to count word frequencies."
      ],
      "metadata": {
        "id": "7qY1qwZA-EJE"
      }
    },
    {
      "cell_type": "markdown",
      "source": [
        "task3:Use Cursor AI to generate a Python class called Book with attributes title, author, and\n",
        "a method summary() that prints the details."
      ],
      "metadata": {
        "id": "EytD-85a-GHu"
      }
    },
    {
      "cell_type": "code",
      "metadata": {
        "id": "a4f0aad3"
      },
      "source": [
        "class Book:\n",
        "    \"\"\"Represents a book with title and author.\"\"\"\n",
        "    def __init__(self, title, author):\n",
        "        self.title = title\n",
        "        self.author = author\n",
        "\n",
        "    def summary(self):\n",
        "        \"\"\"Prints the title and author of the book.\"\"\"\n",
        "        print(f\"Title: {self.title}\")\n",
        "        print(f\"Author: {self.author}\")\n",
        "\n",
        "# Example usage:\n",
        "# my_book = Book(\"The Hitchhiker's Guide to the Galaxy\", \"Douglas Adams\")\n",
        "# my_book.summary()"
      ],
      "execution_count": 7,
      "outputs": []
    },
    {
      "cell_type": "markdown",
      "source": [
        "This code defines a Python class named Book.\n",
        "\n",
        "The __init__ method is the constructor, which is called when you create a new Book object. It takes title and author as arguments and stores them as attributes of the object.\n",
        "The summary method prints the title and author of the book using the stored attributes.\n",
        "The example usage shows how to crea"
      ],
      "metadata": {
        "id": "SuuLf6m1-izC"
      }
    },
    {
      "cell_type": "markdown",
      "source": [
        "task4:Ask Gemini to write a program that checks whether a number is an Armstrong\n",
        "number, and then modify it using Cursor AI to improve performance or structure."
      ],
      "metadata": {
        "id": "jg7mzbrq-kse"
      }
    },
    {
      "cell_type": "markdown",
      "metadata": {
        "id": "9c130110"
      },
      "source": [
        "# Task\n",
        "Ask Gemini to write a program that checks whether a number is an Armstrong number, and then modify it using Cursor AI to improve performance or structure."
      ]
    },
    {
      "cell_type": "markdown",
      "metadata": {
        "id": "db8608c1"
      },
      "source": [
        "## Generate initial armstrong number check function\n",
        "\n",
        "### Subtask:\n",
        "Write a Python function that takes a number as input and determines if it is an Armstrong number.\n"
      ]
    },
    {
      "cell_type": "markdown",
      "metadata": {
        "id": "748b7fa3"
      },
      "source": [
        "**Reasoning**:\n",
        "Define the `is_armstrong` function as described in the instructions to check if a number is an Armstrong number.\n",
        "\n"
      ]
    },
    {
      "cell_type": "code",
      "metadata": {
        "id": "4df15112"
      },
      "source": [
        "def is_armstrong(number):\n",
        "  \"\"\"Checks if a given number is an Armstrong number.\"\"\"\n",
        "  num_str = str(number)\n",
        "  num_digits = len(num_str)\n",
        "  sum_of_powers = 0\n",
        "  for digit_char in num_str:\n",
        "    digit = int(digit_char)\n",
        "    sum_of_powers += digit ** num_digits\n",
        "  return sum_of_powers == number\n",
        "\n",
        "# Example usage:\n",
        "# print(is_armstrong(153))\n",
        "# print(is_armstrong(123))"
      ],
      "execution_count": 8,
      "outputs": []
    },
    {
      "cell_type": "markdown",
      "source": [
        "This code defines a Python function called is_armstrong that checks if a given number is an Armstrong number.\n",
        "\n",
        "It converts the input number to a string to easily access individual digits and determine the number of digits.\n",
        "It initializes a sum_of_powers to zero.\n",
        "It iterates through each character (digit) in the number string.\n",
        "For each digit, it converts the digit character back to an integer and raises it to the power of the total number of digits in the original number. This result is added to the sum_of_powers.\n",
        "Finally, it compares the calculated sum_of_powers with the original number. If they are equal, the function returns True, indicating that the number is an Armstrong number; otherwise, it returns False."
      ],
      "metadata": {
        "id": "5rMRwOEJ_aKo"
      }
    },
    {
      "cell_type": "markdown",
      "source": [
        "task5:Use both Gemini and Cursor AI to generate code for sorting a list of dictionaries by a\n",
        "specific key (e.g., age)."
      ],
      "metadata": {
        "id": "KQ6gCeVd_mCZ"
      }
    },
    {
      "cell_type": "markdown",
      "source": [],
      "metadata": {
        "id": "2XfvZDAJ-808"
      }
    },
    {
      "cell_type": "markdown",
      "metadata": {
        "id": "1c368272"
      },
      "source": [
        "## Explain the initial function\n",
        "\n",
        "### Subtask:\n",
        "Provide a clear explanation of how the generated function works.\n"
      ]
    },
    {
      "cell_type": "markdown",
      "metadata": {
        "id": "2a46c49f"
      },
      "source": [
        "**Reasoning**:\n",
        "Provide a detailed explanation of the `is_armstrong` function as requested by the subtask.\n",
        "\n"
      ]
    },
    {
      "cell_type": "code",
      "metadata": {
        "id": "c8689a85"
      },
      "source": [
        "def sort_list_of_dicts(list_of_dicts, key_to_sort_by):\n",
        "  \"\"\"Sorts a list of dictionaries by a specified key.\"\"\"\n",
        "  return sorted(list_of_dicts, key=lambda x: x[key_to_sort_by])\n",
        "\n",
        "# Example usage:\n",
        "# data = [\n",
        "#     {'name': 'Alice', 'age': 30},\n",
        "#     {'name': 'Bob', 'age': 25},\n",
        "#     {'name': 'Charlie', 'age': 35}\n",
        "# ]\n",
        "\n",
        "# sorted_data = sort_list_of_dicts(data, 'age')\n",
        "# print(sorted_data)"
      ],
      "execution_count": 10,
      "outputs": []
    },
    {
      "cell_type": "markdown",
      "source": [
        "This code defines a Python function called sort_list_of_dicts that takes a list of dictionaries and a key to sort by as input. It uses the built-in sorted() function with a lambda function as the key. The lambda function lambda x: x[key_to_sort_by] tells sorted() to use the value associated with the specified key_to_sort_by in each dictionary (x) as the basis for sorting. The function then returns the new, sorted list of dictionaries. The example usage demonstrates how to sort a list of dictionaries by the 'age' key.\n",
        "\n"
      ],
      "metadata": {
        "id": "1zru1PhpAGsc"
      }
    }
  ]
}